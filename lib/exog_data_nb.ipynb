{
 "cells": [
  {
   "cell_type": "code",
   "execution_count": 1,
   "id": "256ddca0",
   "metadata": {},
   "outputs": [],
   "source": [
    "import pandas_datareader.data as web\n",
    "import datetime\n",
    "\n",
    "start = datetime.datetime(1986, 1, 1)\n",
    "end = datetime.datetime(2025, 6, 18)\n",
    "\n",
    "fed = web.DataReader('FEDFUNDS', 'fred', start, end)\n",
    "brent = web.DataReader('POILBREUSDM', 'fred', start, end)\n",
    "fao = web.DataReader('PFOODINDEXM', 'fred', start, end)  # FAO Food Price Index\n"
   ]
  },
  {
   "cell_type": "code",
   "execution_count": 2,
   "id": "88b0d60e",
   "metadata": {},
   "outputs": [
    {
     "name": "stdout",
     "output_type": "stream",
     "text": [
      "            FEDFUNDS\n",
      "DATE                \n",
      "1986-01-01      8.14\n",
      "            POILBREUSDM\n",
      "DATE                   \n",
      "1990-01-01     20.98913\n",
      "            PFOODINDEXM\n",
      "DATE                   \n",
      "1992-01-01    57.735817\n"
     ]
    }
   ],
   "source": [
    "for i in [fed, brent, fao]:\n",
    "    print(i.head(1))"
   ]
  },
  {
   "cell_type": "code",
   "execution_count": 3,
   "id": "66a575c2",
   "metadata": {},
   "outputs": [
    {
     "data": {
      "application/vnd.microsoft.datawrangler.viewer.v0+json": {
       "columns": [
        {
         "name": "DATE",
         "rawType": "datetime64[ns]",
         "type": "datetime"
        },
        {
         "name": "FEDFUNDS(t-0)",
         "rawType": "float64",
         "type": "float"
        },
        {
         "name": "FEDFUNDS(t-1)",
         "rawType": "float64",
         "type": "float"
        },
        {
         "name": "FEDFUNDS(t-2)",
         "rawType": "float64",
         "type": "float"
        },
        {
         "name": "FEDFUNDS(t-3)",
         "rawType": "float64",
         "type": "float"
        },
        {
         "name": "POILBREUSDM(t-0)",
         "rawType": "float64",
         "type": "float"
        },
        {
         "name": "POILBREUSDM(t-1)",
         "rawType": "float64",
         "type": "float"
        },
        {
         "name": "POILBREUSDM(t-2)",
         "rawType": "float64",
         "type": "float"
        },
        {
         "name": "POILBREUSDM(t-3)",
         "rawType": "float64",
         "type": "float"
        },
        {
         "name": "PFOODINDEXM(t-0)",
         "rawType": "float64",
         "type": "float"
        },
        {
         "name": "PFOODINDEXM(t-1)",
         "rawType": "float64",
         "type": "float"
        },
        {
         "name": "PFOODINDEXM(t-2)",
         "rawType": "float64",
         "type": "float"
        },
        {
         "name": "PFOODINDEXM(t-3)",
         "rawType": "float64",
         "type": "float"
        }
       ],
       "ref": "6e5cb7b5-5de1-49aa-8dce-72718ffa500e",
       "rows": [
        [
         "2024-12-01 00:00:00",
         "4.48",
         "4.64",
         "4.83",
         "5.13",
         "73.2277272727273",
         "73.5085714285715",
         "75.2665217391304",
         "73.0576190476191",
         "132.224069930934",
         "133.314689426849",
         "132.702538960834",
         "130.718538835828"
        ],
        [
         "2025-01-01 00:00:00",
         "4.33",
         "4.48",
         "4.64",
         "4.83",
         "78.1939130434782",
         "73.2277272727273",
         "73.5085714285715",
         "75.2665217391304",
         "135.64008484682",
         "132.224069930934",
         "133.314689426849",
         "132.702538960834"
        ],
        [
         "2025-02-01 00:00:00",
         "4.33",
         "4.33",
         "4.48",
         "4.64",
         "75.193",
         "78.1939130434782",
         "73.2277272727273",
         "73.5085714285715",
         "132.066797964688",
         "135.64008484682",
         "132.224069930934",
         "133.314689426849"
        ],
        [
         "2025-03-01 00:00:00",
         "4.33",
         "4.33",
         "4.33",
         "4.48",
         "71.7414285714286",
         "75.193",
         "78.1939130434782",
         "73.2277272727273",
         "128.966254097565",
         "132.066797964688",
         "135.64008484682",
         "132.224069930934"
        ],
        [
         "2025-04-01 00:00:00",
         "4.33",
         "4.33",
         "4.33",
         "4.33",
         "66.9272727272727",
         "71.7414285714286",
         "75.193",
         "78.1939130434782",
         "130.158567355155",
         "128.966254097565",
         "132.066797964688",
         "135.64008484682"
        ]
       ],
       "shape": {
        "columns": 12,
        "rows": 5
       }
      },
      "text/html": [
       "<div>\n",
       "<style scoped>\n",
       "    .dataframe tbody tr th:only-of-type {\n",
       "        vertical-align: middle;\n",
       "    }\n",
       "\n",
       "    .dataframe tbody tr th {\n",
       "        vertical-align: top;\n",
       "    }\n",
       "\n",
       "    .dataframe thead th {\n",
       "        text-align: right;\n",
       "    }\n",
       "</style>\n",
       "<table border=\"1\" class=\"dataframe\">\n",
       "  <thead>\n",
       "    <tr style=\"text-align: right;\">\n",
       "      <th></th>\n",
       "      <th>FEDFUNDS(t-0)</th>\n",
       "      <th>FEDFUNDS(t-1)</th>\n",
       "      <th>FEDFUNDS(t-2)</th>\n",
       "      <th>FEDFUNDS(t-3)</th>\n",
       "      <th>POILBREUSDM(t-0)</th>\n",
       "      <th>POILBREUSDM(t-1)</th>\n",
       "      <th>POILBREUSDM(t-2)</th>\n",
       "      <th>POILBREUSDM(t-3)</th>\n",
       "      <th>PFOODINDEXM(t-0)</th>\n",
       "      <th>PFOODINDEXM(t-1)</th>\n",
       "      <th>PFOODINDEXM(t-2)</th>\n",
       "      <th>PFOODINDEXM(t-3)</th>\n",
       "    </tr>\n",
       "    <tr>\n",
       "      <th>DATE</th>\n",
       "      <th></th>\n",
       "      <th></th>\n",
       "      <th></th>\n",
       "      <th></th>\n",
       "      <th></th>\n",
       "      <th></th>\n",
       "      <th></th>\n",
       "      <th></th>\n",
       "      <th></th>\n",
       "      <th></th>\n",
       "      <th></th>\n",
       "      <th></th>\n",
       "    </tr>\n",
       "  </thead>\n",
       "  <tbody>\n",
       "    <tr>\n",
       "      <th>2024-12-01</th>\n",
       "      <td>4.48</td>\n",
       "      <td>4.64</td>\n",
       "      <td>4.83</td>\n",
       "      <td>5.13</td>\n",
       "      <td>73.227727</td>\n",
       "      <td>73.508571</td>\n",
       "      <td>75.266522</td>\n",
       "      <td>73.057619</td>\n",
       "      <td>132.224070</td>\n",
       "      <td>133.314689</td>\n",
       "      <td>132.702539</td>\n",
       "      <td>130.718539</td>\n",
       "    </tr>\n",
       "    <tr>\n",
       "      <th>2025-01-01</th>\n",
       "      <td>4.33</td>\n",
       "      <td>4.48</td>\n",
       "      <td>4.64</td>\n",
       "      <td>4.83</td>\n",
       "      <td>78.193913</td>\n",
       "      <td>73.227727</td>\n",
       "      <td>73.508571</td>\n",
       "      <td>75.266522</td>\n",
       "      <td>135.640085</td>\n",
       "      <td>132.224070</td>\n",
       "      <td>133.314689</td>\n",
       "      <td>132.702539</td>\n",
       "    </tr>\n",
       "    <tr>\n",
       "      <th>2025-02-01</th>\n",
       "      <td>4.33</td>\n",
       "      <td>4.33</td>\n",
       "      <td>4.48</td>\n",
       "      <td>4.64</td>\n",
       "      <td>75.193000</td>\n",
       "      <td>78.193913</td>\n",
       "      <td>73.227727</td>\n",
       "      <td>73.508571</td>\n",
       "      <td>132.066798</td>\n",
       "      <td>135.640085</td>\n",
       "      <td>132.224070</td>\n",
       "      <td>133.314689</td>\n",
       "    </tr>\n",
       "    <tr>\n",
       "      <th>2025-03-01</th>\n",
       "      <td>4.33</td>\n",
       "      <td>4.33</td>\n",
       "      <td>4.33</td>\n",
       "      <td>4.48</td>\n",
       "      <td>71.741429</td>\n",
       "      <td>75.193000</td>\n",
       "      <td>78.193913</td>\n",
       "      <td>73.227727</td>\n",
       "      <td>128.966254</td>\n",
       "      <td>132.066798</td>\n",
       "      <td>135.640085</td>\n",
       "      <td>132.224070</td>\n",
       "    </tr>\n",
       "    <tr>\n",
       "      <th>2025-04-01</th>\n",
       "      <td>4.33</td>\n",
       "      <td>4.33</td>\n",
       "      <td>4.33</td>\n",
       "      <td>4.33</td>\n",
       "      <td>66.927273</td>\n",
       "      <td>71.741429</td>\n",
       "      <td>75.193000</td>\n",
       "      <td>78.193913</td>\n",
       "      <td>130.158567</td>\n",
       "      <td>128.966254</td>\n",
       "      <td>132.066798</td>\n",
       "      <td>135.640085</td>\n",
       "    </tr>\n",
       "  </tbody>\n",
       "</table>\n",
       "</div>"
      ],
      "text/plain": [
       "            FEDFUNDS(t-0)  FEDFUNDS(t-1)  FEDFUNDS(t-2)  FEDFUNDS(t-3)  \\\n",
       "DATE                                                                     \n",
       "2024-12-01           4.48           4.64           4.83           5.13   \n",
       "2025-01-01           4.33           4.48           4.64           4.83   \n",
       "2025-02-01           4.33           4.33           4.48           4.64   \n",
       "2025-03-01           4.33           4.33           4.33           4.48   \n",
       "2025-04-01           4.33           4.33           4.33           4.33   \n",
       "\n",
       "            POILBREUSDM(t-0)  POILBREUSDM(t-1)  POILBREUSDM(t-2)  \\\n",
       "DATE                                                               \n",
       "2024-12-01         73.227727         73.508571         75.266522   \n",
       "2025-01-01         78.193913         73.227727         73.508571   \n",
       "2025-02-01         75.193000         78.193913         73.227727   \n",
       "2025-03-01         71.741429         75.193000         78.193913   \n",
       "2025-04-01         66.927273         71.741429         75.193000   \n",
       "\n",
       "            POILBREUSDM(t-3)  PFOODINDEXM(t-0)  PFOODINDEXM(t-1)  \\\n",
       "DATE                                                               \n",
       "2024-12-01         73.057619        132.224070        133.314689   \n",
       "2025-01-01         75.266522        135.640085        132.224070   \n",
       "2025-02-01         73.508571        132.066798        135.640085   \n",
       "2025-03-01         73.227727        128.966254        132.066798   \n",
       "2025-04-01         78.193913        130.158567        128.966254   \n",
       "\n",
       "            PFOODINDEXM(t-2)  PFOODINDEXM(t-3)  \n",
       "DATE                                            \n",
       "2024-12-01        132.702539        130.718539  \n",
       "2025-01-01        133.314689        132.702539  \n",
       "2025-02-01        132.224070        133.314689  \n",
       "2025-03-01        135.640085        132.224070  \n",
       "2025-04-01        132.066798        135.640085  "
      ]
     },
     "execution_count": 3,
     "metadata": {},
     "output_type": "execute_result"
    }
   ],
   "source": [
    "#create three lags for each series and put in dataframe \n",
    "import pandas as pd\n",
    "def create_lags(series, lags=3):\n",
    "    \"\"\"Create lagged features for a given series.\"\"\"\n",
    "    return pd.concat([series.shift(i) for i in range(0, lags + 1)], axis=1)\n",
    "\n",
    "# Create lagged features for each series\n",
    "fed_lags = create_lags(fed['FEDFUNDS'])\n",
    "brent_lags = create_lags(brent['POILBREUSDM'])\n",
    "fao_lags = create_lags(fao['PFOODINDEXM'])\n",
    "\n",
    "# Combine all lagged features into a single DataFrame\n",
    "lagged_data = pd.concat([fed_lags, brent_lags, fao_lags], axis=1)\n",
    "\n",
    "# Rename columns for clarity\n",
    "# lagged_data.columns = [f'{col}_lag{i+1}' for col in lagged_data.columns for i in range(3)]\n",
    "# Drop rows with NaN values (due to lagging)\n",
    "lagged_data.dropna(inplace=True)\n",
    "# Rename columns for clarity\n",
    "lagged_data.columns = [\n",
    "    f'FEDFUNDS(t-{i})' for i in range(4)\n",
    "] + [f'POILBREUSDM(t-{i})' for i in range(4)] + [f'PFOODINDEXM(t-{i})' for i in range(4)]\n",
    "\n",
    "# Display the first few rows of the lagged data\n",
    "lagged_data.tail()"
   ]
  },
  {
   "cell_type": "code",
   "execution_count": 4,
   "id": "b36838c9",
   "metadata": {},
   "outputs": [
    {
     "data": {
      "text/plain": [
       "array([ True,  True,  True,  True,  True,  True,  True,  True,  True,\n",
       "        True,  True,  True])"
      ]
     },
     "execution_count": 4,
     "metadata": {},
     "output_type": "execute_result"
    }
   ],
   "source": [
    "g = lagged_data.columns[1]\n",
    "\n",
    "lagged_data.columns.str.contains(f'\\\\(t\\\\-')"
   ]
  },
  {
   "cell_type": "code",
   "execution_count": 9,
   "id": "b485838c",
   "metadata": {},
   "outputs": [
    {
     "data": {
      "application/vnd.microsoft.datawrangler.viewer.v0+json": {
       "columns": [
        {
         "name": "DATE",
         "rawType": "datetime64[ns]",
         "type": "datetime"
        },
        {
         "name": "POILBREUSDM",
         "rawType": "float64",
         "type": "float"
        },
        {
         "name": "POILBREUSDM",
         "rawType": "float64",
         "type": "float"
        },
        {
         "name": "POILBREUSDM",
         "rawType": "float64",
         "type": "float"
        },
        {
         "name": "POILBREUSDM",
         "rawType": "float64",
         "type": "float"
        }
       ],
       "ref": "1ec74fb9-06b5-430d-bfbb-764bf196bb3b",
       "rows": [
        [
         "2024-12-01 00:00:00",
         "73.2277272727273",
         "73.5085714285715",
         "75.2665217391304",
         "73.0576190476191"
        ],
        [
         "2025-01-01 00:00:00",
         "78.1939130434782",
         "73.2277272727273",
         "73.5085714285715",
         "75.2665217391304"
        ],
        [
         "2025-02-01 00:00:00",
         "75.193",
         "78.1939130434782",
         "73.2277272727273",
         "73.5085714285715"
        ],
        [
         "2025-03-01 00:00:00",
         "71.7414285714286",
         "75.193",
         "78.1939130434782",
         "73.2277272727273"
        ],
        [
         "2025-04-01 00:00:00",
         "66.9272727272727",
         "71.7414285714286",
         "75.193",
         "78.1939130434782"
        ]
       ],
       "shape": {
        "columns": 4,
        "rows": 5
       }
      },
      "text/html": [
       "<div>\n",
       "<style scoped>\n",
       "    .dataframe tbody tr th:only-of-type {\n",
       "        vertical-align: middle;\n",
       "    }\n",
       "\n",
       "    .dataframe tbody tr th {\n",
       "        vertical-align: top;\n",
       "    }\n",
       "\n",
       "    .dataframe thead th {\n",
       "        text-align: right;\n",
       "    }\n",
       "</style>\n",
       "<table border=\"1\" class=\"dataframe\">\n",
       "  <thead>\n",
       "    <tr style=\"text-align: right;\">\n",
       "      <th></th>\n",
       "      <th>POILBREUSDM</th>\n",
       "      <th>POILBREUSDM</th>\n",
       "      <th>POILBREUSDM</th>\n",
       "      <th>POILBREUSDM</th>\n",
       "    </tr>\n",
       "    <tr>\n",
       "      <th>DATE</th>\n",
       "      <th></th>\n",
       "      <th></th>\n",
       "      <th></th>\n",
       "      <th></th>\n",
       "    </tr>\n",
       "  </thead>\n",
       "  <tbody>\n",
       "    <tr>\n",
       "      <th>2024-12-01</th>\n",
       "      <td>73.227727</td>\n",
       "      <td>73.508571</td>\n",
       "      <td>75.266522</td>\n",
       "      <td>73.057619</td>\n",
       "    </tr>\n",
       "    <tr>\n",
       "      <th>2025-01-01</th>\n",
       "      <td>78.193913</td>\n",
       "      <td>73.227727</td>\n",
       "      <td>73.508571</td>\n",
       "      <td>75.266522</td>\n",
       "    </tr>\n",
       "    <tr>\n",
       "      <th>2025-02-01</th>\n",
       "      <td>75.193000</td>\n",
       "      <td>78.193913</td>\n",
       "      <td>73.227727</td>\n",
       "      <td>73.508571</td>\n",
       "    </tr>\n",
       "    <tr>\n",
       "      <th>2025-03-01</th>\n",
       "      <td>71.741429</td>\n",
       "      <td>75.193000</td>\n",
       "      <td>78.193913</td>\n",
       "      <td>73.227727</td>\n",
       "    </tr>\n",
       "    <tr>\n",
       "      <th>2025-04-01</th>\n",
       "      <td>66.927273</td>\n",
       "      <td>71.741429</td>\n",
       "      <td>75.193000</td>\n",
       "      <td>78.193913</td>\n",
       "    </tr>\n",
       "  </tbody>\n",
       "</table>\n",
       "</div>"
      ],
      "text/plain": [
       "            POILBREUSDM  POILBREUSDM  POILBREUSDM  POILBREUSDM\n",
       "DATE                                                          \n",
       "2024-12-01    73.227727    73.508571    75.266522    73.057619\n",
       "2025-01-01    78.193913    73.227727    73.508571    75.266522\n",
       "2025-02-01    75.193000    78.193913    73.227727    73.508571\n",
       "2025-03-01    71.741429    75.193000    78.193913    73.227727\n",
       "2025-04-01    66.927273    71.741429    75.193000    78.193913"
      ]
     },
     "execution_count": 9,
     "metadata": {},
     "output_type": "execute_result"
    }
   ],
   "source": [
    "brent_lags.tail()"
   ]
  },
  {
   "cell_type": "code",
   "execution_count": 6,
   "id": "59b3f45d",
   "metadata": {},
   "outputs": [],
   "source": [
    "#save dataframe to excel file\n",
    "lagged_data.to_excel('exog_lagged_data.xlsx', index=True)\n",
    "\n"
   ]
  },
  {
   "cell_type": "code",
   "execution_count": 8,
   "id": "9881b1b3",
   "metadata": {},
   "outputs": [
    {
     "data": {
      "application/vnd.microsoft.datawrangler.viewer.v0+json": {
       "columns": [
        {
         "name": "index",
         "rawType": "int64",
         "type": "integer"
        },
        {
         "name": "Variable",
         "rawType": "object",
         "type": "string"
        },
        {
         "name": "Source",
         "rawType": "object",
         "type": "string"
        },
        {
         "name": "Direct Forecast?",
         "rawType": "object",
         "type": "string"
        },
        {
         "name": "Frequency",
         "rawType": "object",
         "type": "string"
        },
        {
         "name": "Format",
         "rawType": "object",
         "type": "string"
        },
        {
         "name": "Download URL",
         "rawType": "object",
         "type": "string"
        },
        {
         "name": "Notes",
         "rawType": "object",
         "type": "string"
        }
       ],
       "ref": "3aba7a06-5411-446f-91ea-169b3e696d9b",
       "rows": [
        [
         "0",
         "Brent Crude Oil",
         "IMF World Economic Outlook",
         "✅",
         "Annual",
         "Excel (IMF)",
         "https://www.imf.org/-/media/Files/Publications/WEO/2024/April/English/data/WEOApr2024all.ashx",
         "Look for APSP (Average Petroleum Spot Price) under commodity tables"
        ],
        [
         "1",
         "FAO Food Index",
         "OECD-FAO Agricultural Outlook",
         "🟡 (via commodity categories)",
         "Annual (10-year)",
         "Excel (OECD)",
         "https://www.agri-outlook.org/download/en/OECD-FAO_Agricultural_Outlook_2024.xlsx",
         "Use cereal/oil/sugar price outlooks as proxies for FAO food index"
        ],
        [
         "2",
         "Federal Funds Rate",
         "US Federal Reserve (FOMC Dot Plot)",
         "🟡 (not time series)",
         "Year-end levels",
         "HTML Table (PDF also)",
         "https://www.federalreserve.gov/monetarypolicy/fomcprojtabl20240612.htm",
         "Check latest FOMC Summary of Economic Projections; parse manually"
        ]
       ],
       "shape": {
        "columns": 7,
        "rows": 3
       }
      },
      "text/html": [
       "<div>\n",
       "<style scoped>\n",
       "    .dataframe tbody tr th:only-of-type {\n",
       "        vertical-align: middle;\n",
       "    }\n",
       "\n",
       "    .dataframe tbody tr th {\n",
       "        vertical-align: top;\n",
       "    }\n",
       "\n",
       "    .dataframe thead th {\n",
       "        text-align: right;\n",
       "    }\n",
       "</style>\n",
       "<table border=\"1\" class=\"dataframe\">\n",
       "  <thead>\n",
       "    <tr style=\"text-align: right;\">\n",
       "      <th></th>\n",
       "      <th>Variable</th>\n",
       "      <th>Source</th>\n",
       "      <th>Direct Forecast?</th>\n",
       "      <th>Frequency</th>\n",
       "      <th>Format</th>\n",
       "      <th>Download URL</th>\n",
       "      <th>Notes</th>\n",
       "    </tr>\n",
       "  </thead>\n",
       "  <tbody>\n",
       "    <tr>\n",
       "      <th>0</th>\n",
       "      <td>Brent Crude Oil</td>\n",
       "      <td>IMF World Economic Outlook</td>\n",
       "      <td>✅</td>\n",
       "      <td>Annual</td>\n",
       "      <td>Excel (IMF)</td>\n",
       "      <td>https://www.imf.org/-/media/Files/Publications...</td>\n",
       "      <td>Look for APSP (Average Petroleum Spot Price) u...</td>\n",
       "    </tr>\n",
       "    <tr>\n",
       "      <th>1</th>\n",
       "      <td>FAO Food Index</td>\n",
       "      <td>OECD-FAO Agricultural Outlook</td>\n",
       "      <td>🟡 (via commodity categories)</td>\n",
       "      <td>Annual (10-year)</td>\n",
       "      <td>Excel (OECD)</td>\n",
       "      <td>https://www.agri-outlook.org/download/en/OECD-...</td>\n",
       "      <td>Use cereal/oil/sugar price outlooks as proxies...</td>\n",
       "    </tr>\n",
       "    <tr>\n",
       "      <th>2</th>\n",
       "      <td>Federal Funds Rate</td>\n",
       "      <td>US Federal Reserve (FOMC Dot Plot)</td>\n",
       "      <td>🟡 (not time series)</td>\n",
       "      <td>Year-end levels</td>\n",
       "      <td>HTML Table (PDF also)</td>\n",
       "      <td>https://www.federalreserve.gov/monetarypolicy/...</td>\n",
       "      <td>Check latest FOMC Summary of Economic Projecti...</td>\n",
       "    </tr>\n",
       "  </tbody>\n",
       "</table>\n",
       "</div>"
      ],
      "text/plain": [
       "             Variable                              Source  \\\n",
       "0     Brent Crude Oil          IMF World Economic Outlook   \n",
       "1      FAO Food Index       OECD-FAO Agricultural Outlook   \n",
       "2  Federal Funds Rate  US Federal Reserve (FOMC Dot Plot)   \n",
       "\n",
       "               Direct Forecast?         Frequency                 Format  \\\n",
       "0                             ✅            Annual            Excel (IMF)   \n",
       "1  🟡 (via commodity categories)  Annual (10-year)           Excel (OECD)   \n",
       "2           🟡 (not time series)   Year-end levels  HTML Table (PDF also)   \n",
       "\n",
       "                                        Download URL  \\\n",
       "0  https://www.imf.org/-/media/Files/Publications...   \n",
       "1  https://www.agri-outlook.org/download/en/OECD-...   \n",
       "2  https://www.federalreserve.gov/monetarypolicy/...   \n",
       "\n",
       "                                               Notes  \n",
       "0  Look for APSP (Average Petroleum Spot Price) u...  \n",
       "1  Use cereal/oil/sugar price outlooks as proxies...  \n",
       "2  Check latest FOMC Summary of Economic Projecti...  "
      ]
     },
     "execution_count": 8,
     "metadata": {},
     "output_type": "execute_result"
    }
   ],
   "source": [
    "import pandas as pd\n",
    "\n",
    "# Placeholder URLs (update manually if needed)\n",
    "imf_weo_oil_url = \"https://www.imf.org/-/media/Files/Publications/WEO/2024/April/English/data/WEOApr2024all.ashx\"\n",
    "oecd_fao_outlook_url = \"https://www.agri-outlook.org/download/en/OECD-FAO_Agricultural_Outlook_2024.xlsx\"\n",
    "fomc_projection_url = \"https://www.federalreserve.gov/monetarypolicy/fomcprojtabl20240612.htm\"\n",
    "\n",
    "# Create a dataframe with the key links and guidance\n",
    "projections_sources = pd.DataFrame({\n",
    "    \"Variable\": [\"Brent Crude Oil\", \"FAO Food Index\", \"Federal Funds Rate\"],\n",
    "    \"Source\": [\"IMF World Economic Outlook\", \"OECD-FAO Agricultural Outlook\", \"US Federal Reserve (FOMC Dot Plot)\"],\n",
    "    \"Direct Forecast?\": [\"✅\", \"🟡 (via commodity categories)\", \"🟡 (not time series)\"],\n",
    "    \"Frequency\": [\"Annual\", \"Annual (10-year)\", \"Year-end levels\"],\n",
    "    \"Format\": [\"Excel (IMF)\", \"Excel (OECD)\", \"HTML Table (PDF also)\"],\n",
    "    \"Download URL\": [imf_weo_oil_url, oecd_fao_outlook_url, fomc_projection_url],\n",
    "    \"Notes\": [\n",
    "        \"Look for APSP (Average Petroleum Spot Price) under commodity tables\",\n",
    "        \"Use cereal/oil/sugar price outlooks as proxies for FAO food index\",\n",
    "        \"Check latest FOMC Summary of Economic Projections; parse manually\"\n",
    "    ]\n",
    "})\n",
    "\n",
    "\n",
    "#print ace_tools version \n",
    "projections_sources"
   ]
  }
 ],
 "metadata": {
  "kernelspec": {
   "display_name": "cepal",
   "language": "python",
   "name": "python3"
  },
  "language_info": {
   "codemirror_mode": {
    "name": "ipython",
    "version": 3
   },
   "file_extension": ".py",
   "mimetype": "text/x-python",
   "name": "python",
   "nbconvert_exporter": "python",
   "pygments_lexer": "ipython3",
   "version": "3.11.3"
  }
 },
 "nbformat": 4,
 "nbformat_minor": 5
}
